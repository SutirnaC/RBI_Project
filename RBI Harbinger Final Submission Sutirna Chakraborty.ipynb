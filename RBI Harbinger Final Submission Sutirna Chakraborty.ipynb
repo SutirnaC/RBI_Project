{
 "cells": [
  {
   "cell_type": "code",
   "execution_count": 1,
   "metadata": {},
   "outputs": [
    {
     "data": {
      "text/html": [
       "<div>\n",
       "<style scoped>\n",
       "    .dataframe tbody tr th:only-of-type {\n",
       "        vertical-align: middle;\n",
       "    }\n",
       "\n",
       "    .dataframe tbody tr th {\n",
       "        vertical-align: top;\n",
       "    }\n",
       "\n",
       "    .dataframe thead th {\n",
       "        text-align: right;\n",
       "    }\n",
       "</style>\n",
       "<table border=\"1\" class=\"dataframe\">\n",
       "  <thead>\n",
       "    <tr style=\"text-align: right;\">\n",
       "      <th></th>\n",
       "      <th>step</th>\n",
       "      <th>type</th>\n",
       "      <th>amount</th>\n",
       "      <th>nameOrig</th>\n",
       "      <th>oldbalanceOrg</th>\n",
       "      <th>newbalanceOrig</th>\n",
       "      <th>nameDest</th>\n",
       "      <th>oldbalanceDest</th>\n",
       "      <th>newbalanceDest</th>\n",
       "      <th>isFraud</th>\n",
       "      <th>isFlaggedFraud</th>\n",
       "    </tr>\n",
       "  </thead>\n",
       "  <tbody>\n",
       "    <tr>\n",
       "      <th>0</th>\n",
       "      <td>1</td>\n",
       "      <td>PAYMENT</td>\n",
       "      <td>9839.64</td>\n",
       "      <td>C1231006815</td>\n",
       "      <td>170136.0</td>\n",
       "      <td>160296.36</td>\n",
       "      <td>M1979787155</td>\n",
       "      <td>0.0</td>\n",
       "      <td>0.0</td>\n",
       "      <td>0</td>\n",
       "      <td>0</td>\n",
       "    </tr>\n",
       "    <tr>\n",
       "      <th>1</th>\n",
       "      <td>1</td>\n",
       "      <td>PAYMENT</td>\n",
       "      <td>1864.28</td>\n",
       "      <td>C1666544295</td>\n",
       "      <td>21249.0</td>\n",
       "      <td>19384.72</td>\n",
       "      <td>M2044282225</td>\n",
       "      <td>0.0</td>\n",
       "      <td>0.0</td>\n",
       "      <td>0</td>\n",
       "      <td>0</td>\n",
       "    </tr>\n",
       "    <tr>\n",
       "      <th>2</th>\n",
       "      <td>1</td>\n",
       "      <td>TRANSFER</td>\n",
       "      <td>181.00</td>\n",
       "      <td>C1305486145</td>\n",
       "      <td>181.0</td>\n",
       "      <td>0.00</td>\n",
       "      <td>C553264065</td>\n",
       "      <td>0.0</td>\n",
       "      <td>0.0</td>\n",
       "      <td>1</td>\n",
       "      <td>0</td>\n",
       "    </tr>\n",
       "    <tr>\n",
       "      <th>3</th>\n",
       "      <td>1</td>\n",
       "      <td>CASH_OUT</td>\n",
       "      <td>181.00</td>\n",
       "      <td>C840083671</td>\n",
       "      <td>181.0</td>\n",
       "      <td>0.00</td>\n",
       "      <td>C38997010</td>\n",
       "      <td>21182.0</td>\n",
       "      <td>0.0</td>\n",
       "      <td>1</td>\n",
       "      <td>0</td>\n",
       "    </tr>\n",
       "    <tr>\n",
       "      <th>4</th>\n",
       "      <td>1</td>\n",
       "      <td>PAYMENT</td>\n",
       "      <td>11668.14</td>\n",
       "      <td>C2048537720</td>\n",
       "      <td>41554.0</td>\n",
       "      <td>29885.86</td>\n",
       "      <td>M1230701703</td>\n",
       "      <td>0.0</td>\n",
       "      <td>0.0</td>\n",
       "      <td>0</td>\n",
       "      <td>0</td>\n",
       "    </tr>\n",
       "  </tbody>\n",
       "</table>\n",
       "</div>"
      ],
      "text/plain": [
       "   step      type    amount     nameOrig  oldbalanceOrg  newbalanceOrig  \\\n",
       "0     1   PAYMENT   9839.64  C1231006815       170136.0       160296.36   \n",
       "1     1   PAYMENT   1864.28  C1666544295        21249.0        19384.72   \n",
       "2     1  TRANSFER    181.00  C1305486145          181.0            0.00   \n",
       "3     1  CASH_OUT    181.00   C840083671          181.0            0.00   \n",
       "4     1   PAYMENT  11668.14  C2048537720        41554.0        29885.86   \n",
       "\n",
       "      nameDest  oldbalanceDest  newbalanceDest  isFraud  isFlaggedFraud  \n",
       "0  M1979787155             0.0             0.0        0               0  \n",
       "1  M2044282225             0.0             0.0        0               0  \n",
       "2   C553264065             0.0             0.0        1               0  \n",
       "3    C38997010         21182.0             0.0        1               0  \n",
       "4  M1230701703             0.0             0.0        0               0  "
      ]
     },
     "execution_count": 1,
     "metadata": {},
     "output_type": "execute_result"
    }
   ],
   "source": [
    "%matplotlib inline\n",
    "import numpy as np\n",
    "import pandas as pd\n",
    "\n",
    "df = pd.read_csv(\"onlinefraud.csv\")\n",
    "df.head()"
   ]
  },
  {
   "cell_type": "code",
   "execution_count": 3,
   "metadata": {},
   "outputs": [],
   "source": [
    "from sklearn.model_selection import train_test_split\n",
    "from sklearn.preprocessing import LabelEncoder\n",
    "from sklearn.linear_model import LogisticRegression\n",
    "from sklearn.metrics import accuracy_score, confusion_matrix, classification_report, precision_score, recall_score\n"
   ]
  },
  {
   "cell_type": "code",
   "execution_count": 4,
   "metadata": {},
   "outputs": [],
   "source": [
    "features = df.drop('isFraud', axis=1)"
   ]
  },
  {
   "cell_type": "code",
   "execution_count": 5,
   "metadata": {},
   "outputs": [],
   "source": [
    "features = features.drop('isFlaggedFraud', axis=1)"
   ]
  },
  {
   "cell_type": "code",
   "execution_count": 6,
   "metadata": {},
   "outputs": [],
   "source": [
    "categorical_cols = df.select_dtypes(include=['object']).columns"
   ]
  },
  {
   "cell_type": "code",
   "execution_count": 7,
   "metadata": {},
   "outputs": [],
   "source": [
    "label_encoders = {}\n",
    "for col in categorical_cols:\n",
    "    le = LabelEncoder()\n",
    "    features[col] = le.fit_transform(features[col])\n",
    "    label_encoders[col] = le"
   ]
  },
  {
   "cell_type": "code",
   "execution_count": 8,
   "metadata": {},
   "outputs": [
    {
     "data": {
      "text/plain": [
       "(6362620, 11)"
      ]
     },
     "execution_count": 8,
     "metadata": {},
     "output_type": "execute_result"
    }
   ],
   "source": [
    "df.shape"
   ]
  },
  {
   "cell_type": "code",
   "execution_count": 9,
   "metadata": {},
   "outputs": [
    {
     "data": {
      "text/plain": [
       "(6362620, 9)"
      ]
     },
     "execution_count": 9,
     "metadata": {},
     "output_type": "execute_result"
    }
   ],
   "source": [
    "features.shape"
   ]
  },
  {
   "cell_type": "code",
   "execution_count": 10,
   "metadata": {},
   "outputs": [],
   "source": [
    "# Replace 'target' with your target column name\n",
    "target = df['isFraud']\n"
   ]
  },
  {
   "cell_type": "code",
   "execution_count": 11,
   "metadata": {},
   "outputs": [
    {
     "data": {
      "text/plain": [
       "(6362620,)"
      ]
     },
     "execution_count": 11,
     "metadata": {},
     "output_type": "execute_result"
    }
   ],
   "source": [
    "target.shape"
   ]
  },
  {
   "cell_type": "code",
   "execution_count": 12,
   "metadata": {},
   "outputs": [],
   "source": [
    "# Step 3: Split the dataset\n",
    "X_train, X_test, y_train, y_test = train_test_split(features, target, test_size=0.3, random_state=42)\n"
   ]
  },
  {
   "cell_type": "code",
   "execution_count": 13,
   "metadata": {},
   "outputs": [
    {
     "name": "stdout",
     "output_type": "stream",
     "text": [
      "[0]\ttest-logloss:0.43787\ttest-false_negatives:964.00000\n",
      "[1]\ttest-logloss:0.29740\ttest-false_negatives:957.00000\n",
      "[2]\ttest-logloss:0.20796\ttest-false_negatives:882.00000\n",
      "[3]\ttest-logloss:0.14924\ttest-false_negatives:861.00000\n",
      "[4]\ttest-logloss:0.10799\ttest-false_negatives:860.00000\n",
      "[5]\ttest-logloss:0.07887\ttest-false_negatives:878.00000\n",
      "[6]\ttest-logloss:0.05798\ttest-false_negatives:832.00000\n",
      "[7]\ttest-logloss:0.04303\ttest-false_negatives:849.00000\n",
      "[8]\ttest-logloss:0.03213\ttest-false_negatives:808.00000\n",
      "[9]\ttest-logloss:0.02406\ttest-false_negatives:823.00000\n",
      "[10]\ttest-logloss:0.01821\ttest-false_negatives:825.00000\n",
      "[11]\ttest-logloss:0.01392\ttest-false_negatives:884.00000\n",
      "[12]\ttest-logloss:0.01067\ttest-false_negatives:792.00000\n",
      "[13]\ttest-logloss:0.00831\ttest-false_negatives:796.00000\n",
      "[14]\ttest-logloss:0.00656\ttest-false_negatives:783.00000\n",
      "[15]\ttest-logloss:0.00525\ttest-false_negatives:767.00000\n",
      "[16]\ttest-logloss:0.00429\ttest-false_negatives:766.00000\n",
      "[17]\ttest-logloss:0.00352\ttest-false_negatives:758.00000\n",
      "[18]\ttest-logloss:0.00295\ttest-false_negatives:751.00000\n",
      "[19]\ttest-logloss:0.00251\ttest-false_negatives:741.00000\n",
      "[20]\ttest-logloss:0.00217\ttest-false_negatives:734.00000\n",
      "[21]\ttest-logloss:0.00193\ttest-false_negatives:713.00000\n",
      "[22]\ttest-logloss:0.00174\ttest-false_negatives:707.00000\n",
      "[23]\ttest-logloss:0.00160\ttest-false_negatives:703.00000\n",
      "[24]\ttest-logloss:0.00146\ttest-false_negatives:689.00000\n",
      "[25]\ttest-logloss:0.00137\ttest-false_negatives:687.00000\n",
      "[26]\ttest-logloss:0.00130\ttest-false_negatives:659.00000\n",
      "[27]\ttest-logloss:0.00125\ttest-false_negatives:657.00000\n",
      "[28]\ttest-logloss:0.00120\ttest-false_negatives:649.00000\n",
      "[29]\ttest-logloss:0.00117\ttest-false_negatives:646.00000\n",
      "[30]\ttest-logloss:0.00113\ttest-false_negatives:629.00000\n",
      "[31]\ttest-logloss:0.00111\ttest-false_negatives:623.00000\n",
      "[32]\ttest-logloss:0.00109\ttest-false_negatives:630.00000\n",
      "[33]\ttest-logloss:0.00107\ttest-false_negatives:612.00000\n",
      "[34]\ttest-logloss:0.00105\ttest-false_negatives:610.00000\n",
      "[35]\ttest-logloss:0.00104\ttest-false_negatives:601.00000\n",
      "[36]\ttest-logloss:0.00102\ttest-false_negatives:598.00000\n",
      "[37]\ttest-logloss:0.00102\ttest-false_negatives:596.00000\n",
      "[38]\ttest-logloss:0.00100\ttest-false_negatives:587.00000\n",
      "[39]\ttest-logloss:0.00097\ttest-false_negatives:572.00000\n",
      "[40]\ttest-logloss:0.00095\ttest-false_negatives:561.00000\n",
      "[41]\ttest-logloss:0.00093\ttest-false_negatives:558.00000\n",
      "[42]\ttest-logloss:0.00092\ttest-false_negatives:552.00000\n",
      "[43]\ttest-logloss:0.00091\ttest-false_negatives:542.00000\n",
      "[44]\ttest-logloss:0.00089\ttest-false_negatives:536.00000\n",
      "[45]\ttest-logloss:0.00088\ttest-false_negatives:533.00000\n",
      "[46]\ttest-logloss:0.00088\ttest-false_negatives:533.00000\n",
      "[47]\ttest-logloss:0.00087\ttest-false_negatives:531.00000\n",
      "[48]\ttest-logloss:0.00087\ttest-false_negatives:530.00000\n",
      "[49]\ttest-logloss:0.00086\ttest-false_negatives:526.00000\n",
      "[50]\ttest-logloss:0.00086\ttest-false_negatives:526.00000\n",
      "[51]\ttest-logloss:0.00085\ttest-false_negatives:519.00000\n",
      "[52]\ttest-logloss:0.00084\ttest-false_negatives:514.00000\n",
      "[53]\ttest-logloss:0.00084\ttest-false_negatives:512.00000\n",
      "[54]\ttest-logloss:0.00083\ttest-false_negatives:501.00000\n",
      "[55]\ttest-logloss:0.00082\ttest-false_negatives:492.00000\n",
      "[56]\ttest-logloss:0.00082\ttest-false_negatives:491.00000\n",
      "[57]\ttest-logloss:0.00082\ttest-false_negatives:490.00000\n",
      "[58]\ttest-logloss:0.00081\ttest-false_negatives:486.00000\n",
      "[59]\ttest-logloss:0.00081\ttest-false_negatives:485.00000\n",
      "[60]\ttest-logloss:0.00080\ttest-false_negatives:482.00000\n",
      "[61]\ttest-logloss:0.00080\ttest-false_negatives:480.00000\n",
      "[62]\ttest-logloss:0.00079\ttest-false_negatives:477.00000\n",
      "[63]\ttest-logloss:0.00079\ttest-false_negatives:476.00000\n",
      "[64]\ttest-logloss:0.00078\ttest-false_negatives:474.00000\n",
      "[65]\ttest-logloss:0.00078\ttest-false_negatives:472.00000\n",
      "[66]\ttest-logloss:0.00077\ttest-false_negatives:471.00000\n",
      "[67]\ttest-logloss:0.00077\ttest-false_negatives:473.00000\n",
      "[68]\ttest-logloss:0.00077\ttest-false_negatives:473.00000\n",
      "[69]\ttest-logloss:0.00077\ttest-false_negatives:469.00000\n",
      "[70]\ttest-logloss:0.00076\ttest-false_negatives:461.00000\n",
      "[71]\ttest-logloss:0.00076\ttest-false_negatives:460.00000\n",
      "[72]\ttest-logloss:0.00076\ttest-false_negatives:456.00000\n",
      "[73]\ttest-logloss:0.00076\ttest-false_negatives:459.00000\n",
      "[74]\ttest-logloss:0.00076\ttest-false_negatives:456.00000\n",
      "[75]\ttest-logloss:0.00076\ttest-false_negatives:458.00000\n",
      "[76]\ttest-logloss:0.00076\ttest-false_negatives:458.00000\n",
      "[77]\ttest-logloss:0.00075\ttest-false_negatives:456.00000\n",
      "[78]\ttest-logloss:0.00075\ttest-false_negatives:456.00000\n",
      "[79]\ttest-logloss:0.00075\ttest-false_negatives:457.00000\n",
      "[80]\ttest-logloss:0.00074\ttest-false_negatives:455.00000\n",
      "[81]\ttest-logloss:0.00074\ttest-false_negatives:454.00000\n",
      "[82]\ttest-logloss:0.00074\ttest-false_negatives:454.00000\n",
      "[83]\ttest-logloss:0.00074\ttest-false_negatives:450.00000\n",
      "[84]\ttest-logloss:0.00074\ttest-false_negatives:450.00000\n",
      "[85]\ttest-logloss:0.00073\ttest-false_negatives:446.00000\n",
      "[86]\ttest-logloss:0.00073\ttest-false_negatives:445.00000\n",
      "[87]\ttest-logloss:0.00073\ttest-false_negatives:444.00000\n",
      "[88]\ttest-logloss:0.00073\ttest-false_negatives:442.00000\n",
      "[89]\ttest-logloss:0.00073\ttest-false_negatives:441.00000\n",
      "[90]\ttest-logloss:0.00073\ttest-false_negatives:443.00000\n",
      "[91]\ttest-logloss:0.00073\ttest-false_negatives:443.00000\n",
      "[92]\ttest-logloss:0.00072\ttest-false_negatives:441.00000\n",
      "[93]\ttest-logloss:0.00072\ttest-false_negatives:439.00000\n",
      "[94]\ttest-logloss:0.00072\ttest-false_negatives:440.00000\n",
      "[95]\ttest-logloss:0.00072\ttest-false_negatives:436.00000\n",
      "[96]\ttest-logloss:0.00072\ttest-false_negatives:433.00000\n",
      "[97]\ttest-logloss:0.00072\ttest-false_negatives:432.00000\n",
      "[98]\ttest-logloss:0.00072\ttest-false_negatives:434.00000\n",
      "[99]\ttest-logloss:0.00072\ttest-false_negatives:432.00000\n"
     ]
    }
   ],
   "source": [
    "import xgboost as xgb\n",
    "from sklearn.model_selection import train_test_split\n",
    "\n",
    "# Define a custom evaluation metric to penalize false negatives\n",
    "def custom_eval_metric(y_pred, dtrain):\n",
    "    y_true = dtrain.get_label()\n",
    "    false_negatives = sum((y_true == 1) & (y_pred < 0.5))\n",
    "    return 'false_negatives', false_negatives\n",
    "\n",
    "# Train an XGBoost model with custom evaluation metric\n",
    "dtrain = xgb.DMatrix(X_train, label=y_train)\n",
    "dtest = xgb.DMatrix(X_test, label=y_test)\n",
    "params = {\n",
    "    'objective': 'binary:logistic',\n",
    "    'eval_metric': 'logloss'\n",
    "}\n",
    "\n",
    "model = xgb.train(params, dtrain, num_boost_round=100, evals=[(dtest, 'test')], feval=custom_eval_metric)\n",
    "\n"
   ]
  },
  {
   "cell_type": "code",
   "execution_count": 14,
   "metadata": {},
   "outputs": [],
   "source": [
    "# Predict and evaluate\n",
    "xg_y_pred = model.predict(dtest)\n"
   ]
  },
  {
   "cell_type": "code",
   "execution_count": 18,
   "metadata": {},
   "outputs": [],
   "source": [
    "xg_y_pred\n",
    "xgb_y_pred=xg_y_pred>0.5\n"
   ]
  },
  {
   "cell_type": "code",
   "execution_count": 19,
   "metadata": {},
   "outputs": [],
   "source": [
    "xgb_y_pred=xgb_y_pred.astype(int)"
   ]
  },
  {
   "cell_type": "code",
   "execution_count": 20,
   "metadata": {},
   "outputs": [
    {
     "data": {
      "text/plain": [
       "array([0, 0, 0, ..., 0, 0, 0])"
      ]
     },
     "execution_count": 20,
     "metadata": {},
     "output_type": "execute_result"
    }
   ],
   "source": [
    "xgb_y_pred"
   ]
  },
  {
   "cell_type": "code",
   "execution_count": 21,
   "metadata": {},
   "outputs": [
    {
     "name": "stdout",
     "output_type": "stream",
     "text": [
      "Accuracy: 0.9997605808089539\n",
      "Precision: 0.9604283054003724\n",
      "Recall: 0.8472279260780288\n"
     ]
    }
   ],
   "source": [
    "accuracy = accuracy_score(y_test, xgb_y_pred)\n",
    "print(f'Accuracy: {accuracy}')\n",
    "precision = precision_score(y_test, xgb_y_pred)\n",
    "print(f'Precision: {precision}')\n",
    "recall = recall_score(y_test, xgb_y_pred)\n",
    "print(f'Recall: {recall}')"
   ]
  }
 ],
 "metadata": {
  "kernelspec": {
   "display_name": "Python 3",
   "language": "python",
   "name": "python3"
  },
  "language_info": {
   "codemirror_mode": {
    "name": "ipython",
    "version": 3
   },
   "file_extension": ".py",
   "mimetype": "text/x-python",
   "name": "python",
   "nbconvert_exporter": "python",
   "pygments_lexer": "ipython3",
   "version": "3.7.6"
  }
 },
 "nbformat": 4,
 "nbformat_minor": 4
}
